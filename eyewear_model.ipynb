{
 "cells": [
  {
   "cell_type": "code",
   "execution_count": null,
   "id": "a50e721d",
   "metadata": {},
   "outputs": [],
   "source": [
    "from keras.models import Sequential\n",
    "from keras.layers import Conv2D\n",
    "from keras.layers import Flatten\n",
    "from keras. layers import MaxPooling2D\n",
    "from keras.layers import Dense, Dropout\n",
    "import numpy as np"
   ]
  },
  {
   "cell_type": "code",
   "execution_count": null,
   "id": "3adeba06",
   "metadata": {},
   "outputs": [],
   "source": [
    "model=Sequential()\n",
    "conv1=model.add(Conv2D(32,(3,3),input_shape=(64,64,3),activation='relu'))\n",
    "model.add(MaxPooling2D(pool_size=(2,2)))\n",
    "model.add(Dropout(0.2))\n",
    "conv1=model.add(Conv2D(64,(3,3),input_shape=(64,64,3),activation='relu'))\n",
    "model.add(MaxPooling2D(pool_size=(2,2)))\n",
    "model.add(Dropout(0.2))\n",
    "model.add(Flatten())\n",
    "model.add(Dense(units=128,activation='relu'))\n",
    "model.add(Dense(units=1,activation='sigmoid'))"
   ]
  },
  {
   "cell_type": "code",
   "execution_count": null,
   "id": "18d8ade2",
   "metadata": {},
   "outputs": [],
   "source": [
    "model.compile(optimizer='adam',loss='binary_crossentropy',metrics=['accuracy'])"
   ]
  },
  {
   "cell_type": "code",
   "execution_count": null,
   "id": "7fafc4fe",
   "metadata": {},
   "outputs": [],
   "source": [
    "from keras.preprocessing.image import ImageDataGenerator\n",
    "train_datagen = ImageDataGenerator(rescale = 1./255,shear_range = 0.2,zoom_range = 0.4,horizontal_flip = True)\n",
    "test_datagen = ImageDataGenerator(rescale = 1./255)"
   ]
  },
  {
   "cell_type": "code",
   "execution_count": null,
   "id": "6368c9de",
   "metadata": {},
   "outputs": [],
   "source": [
    "training_set =train_datagen.flow_from_directory('Training',target_size = (64, 64),batch_size = 6,class_mode = 'binary')\n",
    "test_set = test_datagen.flow_from_directory('Testing',target_size = (64, 64),batch_size = 6,class_mode = 'binary')"
   ]
  },
  {
   "cell_type": "code",
   "execution_count": null,
   "id": "f6f34231",
   "metadata": {},
   "outputs": [],
   "source": [
    "model.fit(training_set,steps_per_epoch = 20,epochs = 50)"
   ]
  },
  {
   "cell_type": "code",
   "execution_count": null,
   "id": "8f24e734",
   "metadata": {},
   "outputs": [],
   "source": [
    "import numpy as np\n",
    "from keras.preprocessing import image\n",
    "from keras.models import load_model\n",
    "\n",
    "model = load_model('model.h5')\n",
    "\n",
    "img_path = input(\"Enter image path: \")\n",
    "\n",
    "test_image = image.load_img(img_path, target_size=(64, 64))\n",
    "test_image = image.img_to_array(test_image)\n",
    "test_image = np.expand_dims(test_image, axis=0)\n",
    "\n",
    "result = model.predict(test_image)\n",
    "prediction = 'No Glasses' if result[0][0] == 1 else 'Glasses'\n",
    "print(\"Prediction:\", prediction)\n"
   ]
  },
  {
   "cell_type": "code",
   "execution_count": null,
   "id": "d5d1de7a",
   "metadata": {},
   "outputs": [],
   "source": [
    "model.save(\"model.h5\")"
   ]
  },
  {
   "cell_type": "code",
   "execution_count": null,
   "id": "4d869e50",
   "metadata": {},
   "outputs": [],
   "source": [
    "import cv2\n",
    "import numpy as np\n",
    "from keras.models import load_model\n",
    "from keras.preprocessing import image\n",
    "\n",
    "# Load the pre-trained Keras model\n",
    "model = load_model('model.h5')\n",
    "\n",
    "# Load the model class indices\n",
    "class_indices = training_set.class_indices\n",
    "\n",
    "# Function to make a prediction based on the model\n",
    "def make_prediction(image_array):\n",
    "    result = model.predict(image_array)\n",
    "    if result[0][0] == 1:\n",
    "        prediction = 'Glasses'\n",
    "    else:\n",
    "        prediction = 'No Glasses'\n",
    "    return prediction\n",
    "\n",
    "# Function to capture a live image and make a prediction\n",
    "def capture_and_predict():\n",
    "    cap = cv2.VideoCapture(0)\n",
    "\n",
    "    while True:\n",
    "        ret, frame = cap.read()\n",
    "        cv2.imshow('Live Image', frame)\n",
    "\n",
    "        # Process the frame for the model (resize and normalize)\n",
    "        processed_frame = cv2.resize(frame, (64, 64))\n",
    "        processed_frame = processed_frame.astype('float32') / 255.0\n",
    "        processed_frame = np.expand_dims(processed_frame, axis=0)\n",
    "\n",
    "        # Make a prediction using the model\n",
    "        prediction = make_prediction(processed_frame)\n",
    "\n",
    "        # Display the prediction on the frame\n",
    "        cv2.putText(frame, prediction, (20, 40), cv2.FONT_HERSHEY_SIMPLEX, 1, (0, 255, 0), 2)\n",
    "        cv2.imshow('Live Image with Prediction', frame)\n",
    "\n",
    "        # Exit the loop when 'q' is pressed\n",
    "        if cv2.waitKey(1) & 0xFF == ord('q'):\n",
    "            break\n",
    "\n",
    "    # Release the video capture and close the OpenCV windows\n",
    "    cap.release()\n",
    "    cv2.destroyAllWindows()\n",
    "\n",
    "# Call the function to capture live image and make predictions\n",
    "capture_and_predict()\n"
   ]
  },
  {
   "cell_type": "code",
   "execution_count": null,
   "id": "ceb74099",
   "metadata": {},
   "outputs": [],
   "source": []
  }
 ],
 "metadata": {
  "kernelspec": {
   "display_name": "Python 3 (ipykernel)",
   "language": "python",
   "name": "python3"
  },
  "language_info": {
   "codemirror_mode": {
    "name": "ipython",
    "version": 3
   },
   "file_extension": ".py",
   "mimetype": "text/x-python",
   "name": "python",
   "nbconvert_exporter": "python",
   "pygments_lexer": "ipython3",
   "version": "3.9.13"
  }
 },
 "nbformat": 4,
 "nbformat_minor": 5
}
